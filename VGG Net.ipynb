{
 "cells": [
  {
   "cell_type": "markdown",
   "metadata": {},
   "source": [
    "# VGG Net\n",
    "\n",
    "Let's implement VGG16 (=16 weight layers): paper: https://arxiv.org/pdf/1409.1556.pdf\n",
    "\n",
    "<ul>\n",
    "    <li> All hidden layers have ReLu </li>\n",
    "    <li> MaxPooling is performed over a 2x2 pixel window with stride 2 </li>\n",
    "    <li> The network consists of 5 Convolutional blocks and 3 Fully Connected Layers </li>\n",
    "    <li> Each Convolutional block consists of 2 or more convolutional layers and a MaxPool layer </li>\n",
    "</ul>"
   ]
  },
  {
   "cell_type": "code",
   "execution_count": 2,
   "metadata": {},
   "outputs": [],
   "source": [
    "from tensorflow.keras.layers import Input, Conv2D, MaxPool2D, Flatten, Dense"
   ]
  },
  {
   "cell_type": "code",
   "execution_count": 3,
   "metadata": {},
   "outputs": [],
   "source": [
    "input_layer = Input(shape=(224, 224, 3))\n",
    "\n",
    "#1st Conv Block\n",
    "x = Conv2D(filters=64, kernel_size=3, padding='same', activation='relu')(input_layer)\n",
    "x = Conv2D(filters=64, kernel_size=3, padding='same', activation='relu')(x)\n",
    "x = MaxPool2D(pool_size=2, strides=2, padding='same')(x)\n",
    "\n",
    "\n",
    "#2nd Conv Block\n",
    "x = Conv2D(filters=128, kernel_size=3, padding='same', activation='relu')(x)\n",
    "x = Conv2D(filters=128, kernel_size=3, padding='same', activation='relu')(x)\n",
    "x = MaxPool2D(pool_size=2, strides=2, padding='same')(x)\n",
    "\n",
    "#3rd Conv Block\n",
    "x = Conv2D(filters=256, kernel_size=3, padding='same', activation='relu')(x)\n",
    "x = Conv2D(filters=256, kernel_size=3, padding='same', activation='relu')(x)\n",
    "x = Conv2D(filters=256, kernel_size=3, padding='same', activation='relu')(x)\n",
    "x = MaxPool2D(pool_size=2, strides=2, padding='same')(x)\n",
    "\n",
    "#4th Conv Block\n",
    "x = Conv2D(filters=512, kernel_size=3, padding='same', activation='relu')(x)\n",
    "x = Conv2D(filters=512, kernel_size=3, padding='same', activation='relu')(x)\n",
    "x = Conv2D(filters=512, kernel_size=3, padding='same', activation='relu')(x)\n",
    "x = MaxPool2D(pool_size=2, strides=2, padding='same')(x)\n",
    "\n",
    "#5th Conv Block\n",
    "x = Conv2D(filters=512, kernel_size=3, padding='same', activation='relu')(x)\n",
    "x = Conv2D(filters=512, kernel_size=3, padding='same', activation='relu')(x)\n",
    "x = Conv2D(filters=512, kernel_size=3, padding='same', activation='relu')(x)\n",
    "x = MaxPool2D(pool_size=2, strides=2, padding='same')(x)\n",
    "\n",
    "#Dense Layers\n",
    "x = Flatten()(x)\n",
    "x = Dense(units=4096, activation='relu')(x)\n",
    "x = Dense(units=4096, activation='relu')(x)\n",
    "output = Dense(units=1000, activation='softmax')(x)\n"
   ]
  },
  {
   "cell_type": "code",
   "execution_count": 4,
   "metadata": {},
   "outputs": [],
   "source": [
    "from tensorflow.keras import Model\n",
    "model = Model(inputs=input_layer, outputs=output)"
   ]
  },
  {
   "cell_type": "code",
   "execution_count": 5,
   "metadata": {},
   "outputs": [
    {
     "name": "stdout",
     "output_type": "stream",
     "text": [
      "Model: \"model\"\n",
      "_________________________________________________________________\n",
      "Layer (type)                 Output Shape              Param #   \n",
      "=================================================================\n",
      "input_1 (InputLayer)         [(None, 224, 224, 3)]     0         \n",
      "_________________________________________________________________\n",
      "conv2d (Conv2D)              (None, 224, 224, 64)      1792      \n",
      "_________________________________________________________________\n",
      "conv2d_1 (Conv2D)            (None, 224, 224, 64)      36928     \n",
      "_________________________________________________________________\n",
      "max_pooling2d (MaxPooling2D) (None, 112, 112, 64)      0         \n",
      "_________________________________________________________________\n",
      "conv2d_2 (Conv2D)            (None, 112, 112, 128)     73856     \n",
      "_________________________________________________________________\n",
      "conv2d_3 (Conv2D)            (None, 112, 112, 128)     147584    \n",
      "_________________________________________________________________\n",
      "max_pooling2d_1 (MaxPooling2 (None, 56, 56, 128)       0         \n",
      "_________________________________________________________________\n",
      "conv2d_4 (Conv2D)            (None, 56, 56, 256)       295168    \n",
      "_________________________________________________________________\n",
      "conv2d_5 (Conv2D)            (None, 56, 56, 256)       590080    \n",
      "_________________________________________________________________\n",
      "conv2d_6 (Conv2D)            (None, 56, 56, 256)       590080    \n",
      "_________________________________________________________________\n",
      "max_pooling2d_2 (MaxPooling2 (None, 28, 28, 256)       0         \n",
      "_________________________________________________________________\n",
      "conv2d_7 (Conv2D)            (None, 28, 28, 512)       1180160   \n",
      "_________________________________________________________________\n",
      "conv2d_8 (Conv2D)            (None, 28, 28, 512)       2359808   \n",
      "_________________________________________________________________\n",
      "conv2d_9 (Conv2D)            (None, 28, 28, 512)       2359808   \n",
      "_________________________________________________________________\n",
      "max_pooling2d_3 (MaxPooling2 (None, 14, 14, 512)       0         \n",
      "_________________________________________________________________\n",
      "conv2d_10 (Conv2D)           (None, 14, 14, 512)       2359808   \n",
      "_________________________________________________________________\n",
      "conv2d_11 (Conv2D)           (None, 14, 14, 512)       2359808   \n",
      "_________________________________________________________________\n",
      "conv2d_12 (Conv2D)           (None, 14, 14, 512)       2359808   \n",
      "_________________________________________________________________\n",
      "max_pooling2d_4 (MaxPooling2 (None, 7, 7, 512)         0         \n",
      "_________________________________________________________________\n",
      "flatten (Flatten)            (None, 25088)             0         \n",
      "_________________________________________________________________\n",
      "dense (Dense)                (None, 4096)              102764544 \n",
      "_________________________________________________________________\n",
      "dense_1 (Dense)              (None, 4096)              16781312  \n",
      "_________________________________________________________________\n",
      "dense_2 (Dense)              (None, 1000)              4097000   \n",
      "=================================================================\n",
      "Total params: 138,357,544\n",
      "Trainable params: 138,357,544\n",
      "Non-trainable params: 0\n",
      "_________________________________________________________________\n"
     ]
    }
   ],
   "source": [
    "model.summary()"
   ]
  },
  {
   "cell_type": "code",
   "execution_count": null,
   "metadata": {},
   "outputs": [],
   "source": []
  }
 ],
 "metadata": {
  "kernelspec": {
   "display_name": "Python 3",
   "language": "python",
   "name": "python3"
  },
  "language_info": {
   "codemirror_mode": {
    "name": "ipython",
    "version": 3
   },
   "file_extension": ".py",
   "mimetype": "text/x-python",
   "name": "python",
   "nbconvert_exporter": "python",
   "pygments_lexer": "ipython3",
   "version": "3.6.8"
  }
 },
 "nbformat": 4,
 "nbformat_minor": 2
}
