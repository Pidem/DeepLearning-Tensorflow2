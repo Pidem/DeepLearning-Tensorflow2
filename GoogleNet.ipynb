{
 "cells": [
  {
   "cell_type": "markdown",
   "metadata": {},
   "source": [
    "# GoogleNet\n",
    "\n",
    "paper: https://arxiv.org/pdf/1409.4842.pdf\n",
    "\n",
    "<ul>\n",
    "    <li> All the convolutions use ReLu </li>\n",
    "    <li> Inception Blocks are standardized made out of 4 differnet streams </li>\n",
    "    <li> Network starts with two ConvMaxPool blocks </li>\n",
    "    <li> followed by a series of Inception Blocks separated by max Pool layers</li>\n",
    "    <li> Fully Connected layer at the end </li>\n",
    "<ul>"
   ]
  },
  {
   "cell_type": "code",
   "execution_count": 3,
   "metadata": {},
   "outputs": [],
   "source": [
    "from tensorflow.keras.layers import Input, Conv2D, MaxPool2D, Concatenate, AvgPool2D, Dropout, Flatten, Dense"
   ]
  },
  {
   "cell_type": "markdown",
   "metadata": {},
   "source": [
    "**Inception Module**:\n",
    "![alt text](data/inception_module.png \"Inception Module\")"
   ]
  },
  {
   "cell_type": "code",
   "execution_count": 10,
   "metadata": {},
   "outputs": [],
   "source": [
    "def inception_block(x, filters):\n",
    "    output_1 = Conv2D(filters[0], kernel_size=1, activation='relu')(x)\n",
    "    \n",
    "    output_2 = Conv2D(filters[1], kernel_size=1, activation='relu')(x)\n",
    "    output_2 = Conv2D(filters[2], kernel_size=3, padding='same', activation='relu')(output_2)\n",
    "    \n",
    "    output_3 = Conv2D(filters[3], kernel_size=1, activation='relu')(x)\n",
    "    output_3 = Conv2D(filters[4], kernel_size=5, padding='same', activation='relu')(output_3)\n",
    "    \n",
    "    output_4 = MaxPool2D(pool_size=3, strides=1, padding='same')(x)\n",
    "    output_4 = Conv2D(filters[5], kernel_size=1, activation='relu')(output_4)\n",
    "    \n",
    "    output = Concatenate()([output_1, output_2, output_3, output_4])\n",
    "    \n",
    "    return output"
   ]
  },
  {
   "cell_type": "code",
   "execution_count": 11,
   "metadata": {},
   "outputs": [],
   "source": [
    "input_layer = Input(shape=(224, 224, 3))\n",
    "x = Conv2D(filters=64, kernel_size=7, strides=2, padding='same',activation='relu')(input_layer)\n",
    "x = MaxPool2D(pool_size=3, strides=2, padding='same')(x)\n",
    "\n",
    "x = Conv2D(filters=64, kernel_size=1, activation='relu')(x)\n",
    "x = Conv2D(filters=192, kernel_size=3, padding='same', activation='relu')(x)\n",
    "x = MaxPool2D(pool_size=3, strides=2, padding='same')(x)\n",
    "\n",
    "x = inception_block(x, [64, 96, 128, 16, 32, 32]) #inception 3a\n",
    "x = inception_block(x, [128, 128, 192, 32, 96, 64]) #inception 3b\n",
    "x= MaxPool2D(pool_size=3, strides=2, padding='same')(x)\n",
    "\n",
    "x = inception_block(x, [192, 96, 2018, 16, 48, 64]) #inception 4a\n",
    "x = inception_block(x, [160, 112, 224, 24, 64, 64]) #inception 4b\n",
    "x = inception_block(x, [128, 128, 256, 24, 64, 64]) #inception 4c\n",
    "x = inception_block(x, [112, 144, 288, 32, 64, 64]) #inception 4d\n",
    "x = inception_block(x, [64, 96, 128, 16, 32, 32]) #inception 4e\n",
    "x= MaxPool2D(pool_size=3, strides=2, padding='same')(x)\n",
    "\n",
    "x = inception_block(x, [256, 160, 320, 32, 128, 128]) #inception 5a\n",
    "x = inception_block(x, [384, 192, 384, 48, 128, 128]) #inception 5b\n",
    "x= AvgPool2D(pool_size=7, strides=1)(x)\n",
    "\n",
    "x = Dropout(rate=0.4)(x)\n",
    "output = Dense(units=1000, activation='softmax')(x)\n"
   ]
  },
  {
   "cell_type": "code",
   "execution_count": null,
   "metadata": {},
   "outputs": [],
   "source": []
  },
  {
   "cell_type": "code",
   "execution_count": null,
   "metadata": {},
   "outputs": [],
   "source": [
    "from tensorflow.keras import Model"
   ]
  }
 ],
 "metadata": {
  "kernelspec": {
   "display_name": "Python 3",
   "language": "python",
   "name": "python3"
  },
  "language_info": {
   "codemirror_mode": {
    "name": "ipython",
    "version": 3
   },
   "file_extension": ".py",
   "mimetype": "text/x-python",
   "name": "python",
   "nbconvert_exporter": "python",
   "pygments_lexer": "ipython3",
   "version": "3.6.8"
  }
 },
 "nbformat": 4,
 "nbformat_minor": 2
}
