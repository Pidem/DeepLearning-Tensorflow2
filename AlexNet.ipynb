{
 "cells": [
  {
   "cell_type": "markdown",
   "metadata": {},
   "source": [
    "# AlexNet Architecture: \n",
    "\n",
    "(2012)\n",
    "<ul>\n",
    "    <li> 5 convolutional layers and 3 Fully Connected Layers </li>\n",
    "    <li> MaxPooling is applied between the layers </li>\n",
    "    <li> Local Response Normalization before max Pooling: Replaced here with Batch Normalization</li>\n",
    "</ul>\n",
    "\n",
    "17% error on ImageNet compared to 7.3% for VGG-16\n"
   ]
  },
  {
   "cell_type": "code",
   "execution_count": 1,
   "metadata": {},
   "outputs": [],
   "source": [
    "from tensorflow.keras.layers import Input, Conv2D, BatchNormalization, MaxPool2D, Flatten, Dense, Dropout"
   ]
  },
  {
   "cell_type": "code",
   "execution_count": 2,
   "metadata": {},
   "outputs": [],
   "source": [
    "input_layer = Input(shape=(224, 224, 3))\n",
    "\n",
    "# First Conv Layer\n",
    "x = Conv2D(filters=96, kernel_size=11, strides=4, padding='same', activation='relu')(input_layer) \n",
    "x = BatchNormalization()(x)\n",
    "x = MaxPool2D(pool_size=3, strides=2)(x)\n",
    "\n",
    "# Second Conv Layer\n",
    "x = Conv2D(filters=256, kernel_size=5, padding='same', activation='relu')(x)\n",
    "x = BatchNormalization()(x)\n",
    "x = MaxPool2D(pool_size=3, strides=2)(x)\n",
    "\n",
    "# Thirst Conv Layer\n",
    "x = Conv2D(filters=384, kernel_size=3, padding='same', activation='relu')(x)\n",
    "x = BatchNormalization()(x)\n",
    "x = MaxPool2D(pool_size=3, strides=2)(x)\n",
    "\n",
    "# Fourth Conv Layer\n",
    "x = Conv2D(filters=384, kernel_size=3, padding='same', activation='relu')(x)\n",
    "\n",
    "# Fifth Conv Layer\n",
    "x = Conv2D(filters=256, kernel_size=3, padding='same', activation='relu')(x)\n",
    "\n",
    "# Fully Connected Layers\n",
    "x = Flatten()(x)\n",
    "x = Dense(units=4096, activation='relu')(x)\n",
    "x = Dense(units=4096, activation='relu')(x)\n",
    "x = Dropout(rate=0.5)(x)\n",
    "\n",
    "# Output Layer\n",
    "output = Dense(units=1000, activation='softmax')(x)"
   ]
  },
  {
   "cell_type": "code",
   "execution_count": 3,
   "metadata": {},
   "outputs": [],
   "source": [
    "from tensorflow.keras import Model\n",
    "\n",
    "model = Model(inputs=input_layer, outputs=output)"
   ]
  },
  {
   "cell_type": "markdown",
   "metadata": {},
   "source": [
    "### Comments: \n",
    "\n",
    "**3x3 vs 11x11 filters**: Bigger filter size, captures more *global* information. Smaller filter size capture more *local* information "
   ]
  },
  {
   "cell_type": "code",
   "execution_count": null,
   "metadata": {},
   "outputs": [],
   "source": []
  }
 ],
 "metadata": {
  "kernelspec": {
   "display_name": "Python 3",
   "language": "python",
   "name": "python3"
  },
  "language_info": {
   "codemirror_mode": {
    "name": "ipython",
    "version": 3
   },
   "file_extension": ".py",
   "mimetype": "text/x-python",
   "name": "python",
   "nbconvert_exporter": "python",
   "pygments_lexer": "ipython3",
   "version": "3.6.8"
  }
 },
 "nbformat": 4,
 "nbformat_minor": 2
}
