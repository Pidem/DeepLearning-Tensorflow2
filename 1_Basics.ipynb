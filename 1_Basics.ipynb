{
 "cells": [
  {
   "cell_type": "code",
   "execution_count": 27,
   "metadata": {},
   "outputs": [
    {
     "data": {
      "text/plain": [
       "'2.0.0-beta0'"
      ]
     },
     "execution_count": 27,
     "metadata": {},
     "output_type": "execute_result"
    }
   ],
   "source": [
    "import tensorflow as tf\n",
    "import numpy as np\n",
    "tf.__version__"
   ]
  },
  {
   "cell_type": "markdown",
   "metadata": {},
   "source": [
    "### Hello World"
   ]
  },
  {
   "cell_type": "code",
   "execution_count": 17,
   "metadata": {},
   "outputs": [
    {
     "name": "stdout",
     "output_type": "stream",
     "text": [
      "<class 'tensorflow.python.framework.ops.EagerTensor'>\n",
      "tf.Tensor(b'Hello Tensorflow 2', shape=(), dtype=string)\n",
      "b'Hello Tensorflow 2'\n"
     ]
    }
   ],
   "source": [
    "hello = tf.constant(\"Hello Tensorflow 2\")\n",
    "print(type(hello))\n",
    "print(hello)\n",
    "print(hello.numpy())"
   ]
  },
  {
   "cell_type": "code",
   "execution_count": 23,
   "metadata": {},
   "outputs": [
    {
     "name": "stdout",
     "output_type": "stream",
     "text": [
      "<class 'tensorflow.python.framework.ops.EagerTensor'>\n",
      "<class 'tensorflow.python.framework.ops.EagerTensor'>\n",
      "<class 'tensorflow.python.framework.ops.EagerTensor'>\n",
      "tf.Tensor(2.2, shape=(), dtype=float32)\n"
     ]
    }
   ],
   "source": [
    "# Operators (you can only add same-type tensors)\n",
    "a = tf.constant(1.0)\n",
    "b = tf.constant(1.2)\n",
    "\n",
    "c = a+b\n",
    "\n",
    "print(type(a))\n",
    "print(type(b))\n",
    "print(type(c))\n",
    "\n",
    "print(c)"
   ]
  },
  {
   "cell_type": "code",
   "execution_count": 37,
   "metadata": {},
   "outputs": [
    {
     "name": "stdout",
     "output_type": "stream",
     "text": [
      "<class 'tensorflow.python.ops.resource_variable_ops.ResourceVariable'>\n",
      "<tf.Variable 'Variable:0' shape=(5, 2) dtype=float32, numpy=\n",
      "array([[-0.03659157,  0.03246316],\n",
      "       [-0.01233154, -0.01778675],\n",
      "       [ 0.04445628,  0.11602721],\n",
      "       [-0.02429426,  0.03464315],\n",
      "       [-0.02523409,  0.0412645 ]], dtype=float32)>\n",
      "[[-0.03659157  0.03246316]\n",
      " [-0.01233154 -0.01778675]\n",
      " [ 0.04445628  0.11602721]\n",
      " [-0.02429426  0.03464315]\n",
      " [-0.02523409  0.0412645 ]]\n"
     ]
    }
   ],
   "source": [
    "# Variables - no need to initialize vairbales anymore\n",
    "\n",
    "W = tf.Variable(tf.random.normal([5,2], stddev=.1))\n",
    "print(type(W))\n",
    "print(W)\n",
    "print(W.numpy())"
   ]
  },
  {
   "cell_type": "code",
   "execution_count": 40,
   "metadata": {},
   "outputs": [
    {
     "name": "stdout",
     "output_type": "stream",
     "text": [
      "tf.Tensor(\n",
      "[[-0.02861094  0.02792838]\n",
      " [-0.03657442  0.10774001]], shape=(2, 2), dtype=float32)\n"
     ]
    }
   ],
   "source": [
    "# No need for placeholders and sessions anymore, functions do the trick \n",
    "\n",
    "\"\"\"\n",
    "in Tensorflow 1.X\n",
    "sess = tf.Session()\n",
    "oper_out = sess.run(oper, feed_dict={x: data})\n",
    "\"\"\"\n",
    "\n",
    "data = np.random.rand(2, 5).astype('float32')\n",
    "\n",
    "def multiply(x):\n",
    "    return tf.matmul(x, W)\n",
    "\n",
    "oper = multiply(data)\n",
    "print(oper)"
   ]
  },
  {
   "cell_type": "markdown",
   "metadata": {},
   "source": [
    "### MNIST"
   ]
  },
  {
   "cell_type": "code",
   "execution_count": 42,
   "metadata": {},
   "outputs": [],
   "source": [
    "import matplotlib.pyplot as plt\n",
    "\n",
    "%matplotlib inline"
   ]
  },
  {
   "cell_type": "code",
   "execution_count": 50,
   "metadata": {},
   "outputs": [
    {
     "name": "stdout",
     "output_type": "stream",
     "text": [
      "Number of training sample: 60000\n",
      "Number of testing sample: 10000\n"
     ]
    }
   ],
   "source": [
    "training, testing = tf.keras.datasets.mnist.load_data()\n",
    "print(\"Number of training sample: %d\" % training[0].shape[0])\n",
    "print(\"Number of testing sample: %d\" % testing[0].shape[0])"
   ]
  },
  {
   "cell_type": "code",
   "execution_count": 64,
   "metadata": {},
   "outputs": [
    {
     "data": {
      "image/png": "[encoded data removed]",
      "text/plain": [
       "<Figure size 720x720 with 20 Axes>"
      ]
     },
     "metadata": {
      "needs_background": "light"
     },
     "output_type": "display_data"
    }
   ],
   "source": [
    "# Display the 20 random images of MNIST\n",
    "\n",
    "AMOUNT = 20\n",
    "LINES = 4\n",
    "COLUMNS = 5\n",
    "\n",
    "image = np.zeros((AMOUNT, 28, 28))\n",
    "labels = np.zeros(AMOUNT)\n",
    "for i in range(AMOUNT):\n",
    "    image[i] = training[0][i].reshape(28, 28)\n",
    "    labels[i] = training[1][i]\n",
    "    \n",
    "fig = plt.figure(figsize=(10,10))\n",
    "\n",
    "for i in range(AMOUNT):\n",
    "    ax = fig.add_subplot(LINES, COLUMNS, 1 + i)\n",
    "    plt.imshow(image[i], cmap='binary')\n",
    "    plt.sca(ax)\n",
    "    plt.xlabel(int(labels[i]))\n",
    "    \n",
    "\n",
    "plt.show()\n",
    "    "
   ]
  },
  {
   "cell_type": "code",
   "execution_count": null,
   "metadata": {},
   "outputs": [],
   "source": [
    "# Creating efficient data input pipelines \n",
    "\n",
    "# https://adventuresinmachinelearning.com/tensorflow-dataset-tutorial/\n",
    "dataset = tf.data.Dataset.batch(batch_size=BATCH_SIZE)\n",
    "dataset = tf.data.Dataset.prefetch(buffer_size=PREFETCH_BUFFER_SIZE)"
   ]
  }
 ],
 "metadata": {
  "kernelspec": {
   "display_name": "Python 3",
   "language": "python",
   "name": "python3"
  },
  "language_info": {
   "codemirror_mode": {
    "name": "ipython",
    "version": 3
   },
   "file_extension": ".py",
   "mimetype": "text/x-python",
   "name": "python",
   "nbconvert_exporter": "python",
   "pygments_lexer": "ipython3",
   "version": "3.6.7"
  },
  "pycharm": {
   "stem_cell": {
    "cell_type": "raw",
    "source": [],
    "metadata": {
     "collapsed": false
    }
   }
  }
 },
 "nbformat": 4,
 "nbformat_minor": 2
}